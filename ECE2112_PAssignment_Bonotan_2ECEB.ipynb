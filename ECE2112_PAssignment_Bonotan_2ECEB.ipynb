{
 "cells": [
  {
   "cell_type": "markdown",
   "id": "c95c8624-104f-48f2-b0aa-b0af55f178bb",
   "metadata": {},
   "source": [
    "## ALPHABET SOUP PROBLEM"
   ]
  },
  {
   "cell_type": "code",
   "execution_count": 1,
   "id": "a52ad981-73ed-4302-8e79-5539715afc60",
   "metadata": {},
   "outputs": [],
   "source": [
    "def alphabet_soup(text): #define the function alphabet_soup\n",
    "    return ''.join(sorted(text)) #sort the next given elements"
   ]
  },
  {
   "cell_type": "code",
   "execution_count": 6,
   "id": "52ed5ba7-769e-418c-81fa-759a08feaf92",
   "metadata": {},
   "outputs": [
    {
     "name": "stdout",
     "output_type": "stream",
     "text": [
      "aeeelmnrty\n"
     ]
    }
   ],
   "source": [
    "print(alphabet_soup(\"elementary\")) #use an example phrase and print"
   ]
  },
  {
   "cell_type": "code",
   "execution_count": 7,
   "id": "9eea166b-0bb6-4f2a-b240-91800598fdf7",
   "metadata": {},
   "outputs": [
    {
     "name": "stdout",
     "output_type": "stream",
     "text": [
      "aaacccdeefgiiiiiiillloopprrssstuux\n"
     ]
    }
   ],
   "source": [
    "print(alphabet_soup(\"supercalifragilisticexpialidocious\")) #give another example phrase and print"
   ]
  },
  {
   "cell_type": "markdown",
   "id": "1d6e54df-1a43-40fd-b6a0-416d881d40f6",
   "metadata": {},
   "source": [
    "## Emotify problem"
   ]
  },
  {
   "cell_type": "code",
   "execution_count": 8,
   "id": "1964a3e0-255f-47ad-a3ba-5cd65942f9ad",
   "metadata": {},
   "outputs": [],
   "source": [
    "def emotify(sentence): #define the function emotify \n",
    "    sentence = sentence.replace(\"smile\", \":)\")\n",
    "    sentence = sentence.replace(\"grin\", \":D\")\n",
    "    sentence = sentence.replace(\"sad\", \":((\")\n",
    "    sentence = sentence.replace(\"mad\", \">:(\") #replace the corresponding words into its respective emoticons\n",
    "    return sentence"
   ]
  },
  {
   "cell_type": "code",
   "execution_count": 9,
   "id": "48a6463b-d57b-4715-b730-0d20766700cd",
   "metadata": {},
   "outputs": [
    {
     "name": "stdout",
     "output_type": "stream",
     "text": [
      "Can you give me a :)\n"
     ]
    }
   ],
   "source": [
    "print(emotify(\"Can you give me a smile\")) #provide an example using one of the replaced words"
   ]
  },
  {
   "cell_type": "code",
   "execution_count": 10,
   "id": "51558793-9d20-457a-8313-c16e4e4d9f68",
   "metadata": {},
   "outputs": [
    {
     "name": "stdout",
     "output_type": "stream",
     "text": [
      "I truly feel :((\n"
     ]
    }
   ],
   "source": [
    "print(emotify(\"I truly feel sad\")) #give another example using one of the replaced words"
   ]
  },
  {
   "cell_type": "markdown",
   "id": "c672be1f-880a-4873-9279-1671de87f07f",
   "metadata": {},
   "source": [
    "## UNPACKING LIST PROBLEM"
   ]
  },
  {
   "cell_type": "code",
   "execution_count": 25,
   "id": "89e89cb4-00e2-4efb-8c4c-08f82376af17",
   "metadata": {},
   "outputs": [],
   "source": [
    "Apples = [1, 2, 3, 4, 5, 6,7,8] #create a list of values"
   ]
  },
  {
   "cell_type": "code",
   "execution_count": 26,
   "id": "593c8c9c-ae4b-44b4-96c0-9e334b843b4f",
   "metadata": {},
   "outputs": [],
   "source": [
    "first = Apples[0] #define \"first\" as the first digit of the list"
   ]
  },
  {
   "cell_type": "code",
   "execution_count": 27,
   "id": "03fa1b67-5f19-444f-b6b3-558e6134cefb",
   "metadata": {},
   "outputs": [],
   "source": [
    "last = Apples[-1] #define \"last\" as the last digit of the list"
   ]
  },
  {
   "cell_type": "code",
   "execution_count": 28,
   "id": "c6d445b1-a8c6-4325-b23e-7a9228118579",
   "metadata": {},
   "outputs": [],
   "source": [
    "middle = [] #create a loop excluding the first and last values\n",
    "for i in range(1, len(Apples)-1):\n",
    "    middle.append(Apples[i])"
   ]
  },
  {
   "cell_type": "code",
   "execution_count": 29,
   "id": "f1830660-898b-4122-bbb6-94706462e0b8",
   "metadata": {},
   "outputs": [
    {
     "name": "stdout",
     "output_type": "stream",
     "text": [
      "first: 1\n"
     ]
    }
   ],
   "source": [
    "print(\"first:\", first) #print the first value"
   ]
  },
  {
   "cell_type": "code",
   "execution_count": 30,
   "id": "f36d7fbf-b4de-4a86-b4b7-ea5d7e39d242",
   "metadata": {},
   "outputs": [
    {
     "name": "stdout",
     "output_type": "stream",
     "text": [
      "middle: [2, 3, 4, 5, 6, 7]\n"
     ]
    }
   ],
   "source": [
    "print(\"middle:\", middle) #print the middle values"
   ]
  },
  {
   "cell_type": "code",
   "execution_count": 31,
   "id": "2dff58c8-1902-44af-b67b-25d617e46212",
   "metadata": {},
   "outputs": [
    {
     "name": "stdout",
     "output_type": "stream",
     "text": [
      "last: 8\n"
     ]
    }
   ],
   "source": [
    "print(\"last:\", last) #print the last value"
   ]
  }
 ],
 "metadata": {
  "kernelspec": {
   "display_name": "Python [conda env:base] *",
   "language": "python",
   "name": "conda-base-py"
  },
  "language_info": {
   "codemirror_mode": {
    "name": "ipython",
    "version": 3
   },
   "file_extension": ".py",
   "mimetype": "text/x-python",
   "name": "python",
   "nbconvert_exporter": "python",
   "pygments_lexer": "ipython3",
   "version": "3.13.5"
  }
 },
 "nbformat": 4,
 "nbformat_minor": 5
}
